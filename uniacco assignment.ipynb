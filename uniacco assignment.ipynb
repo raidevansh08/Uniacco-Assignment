{
 "cells": [
  {
   "cell_type": "code",
   "execution_count": 274,
   "id": "08f44b9d",
   "metadata": {},
   "outputs": [
    {
     "name": "stdout",
     "output_type": "stream",
     "text": [
      "Requirement already satisfied: xgboost in c:\\users\\devan\\anaconda3\\lib\\site-packages (1.6.2)"
     ]
    },
    {
     "name": "stderr",
     "output_type": "stream",
     "text": [
      "WARNING: Ignoring invalid distribution -tatsmodels (c:\\users\\devan\\anaconda3\\lib\\site-packages)\n",
      "WARNING: Ignoring invalid distribution -atplotlib (c:\\users\\devan\\anaconda3\\lib\\site-packages)\n",
      "WARNING: Ignoring invalid distribution -tatsmodels (c:\\users\\devan\\anaconda3\\lib\\site-packages)\n",
      "WARNING: Ignoring invalid distribution -atplotlib (c:\\users\\devan\\anaconda3\\lib\\site-packages)\n",
      "WARNING: Ignoring invalid distribution -tatsmodels (c:\\users\\devan\\anaconda3\\lib\\site-packages)\n",
      "WARNING: Ignoring invalid distribution -atplotlib (c:\\users\\devan\\anaconda3\\lib\\site-packages)\n",
      "WARNING: Ignoring invalid distribution -tatsmodels (c:\\users\\devan\\anaconda3\\lib\\site-packages)\n",
      "WARNING: Ignoring invalid distribution -atplotlib (c:\\users\\devan\\anaconda3\\lib\\site-packages)\n",
      "WARNING: Ignoring invalid distribution -tatsmodels (c:\\users\\devan\\anaconda3\\lib\\site-packages)\n",
      "WARNING: Ignoring invalid distribution -atplotlib (c:\\users\\devan\\anaconda3\\lib\\site-packages)\n",
      "WARNING: Ignoring invalid distribution -tatsmodels (c:\\users\\devan\\anaconda3\\lib\\site-packages)\n",
      "WARNING: Ignoring invalid distribution -atplotlib (c:\\users\\devan\\anaconda3\\lib\\site-packages)\n"
     ]
    },
    {
     "name": "stdout",
     "output_type": "stream",
     "text": [
      "\n",
      "Requirement already satisfied: scipy in c:\\users\\devan\\anaconda3\\lib\\site-packages (from xgboost) (1.7.1)\n",
      "Requirement already satisfied: numpy in c:\\users\\devan\\anaconda3\\lib\\site-packages (from xgboost) (1.20.3)\n"
     ]
    }
   ],
   "source": [
    "import pandas as pd\n",
    "import numpy as np\n",
    "import matplotlib.pyplot as plt\n",
    "import seaborn as sns \n",
    "%matplotlib inline \n",
    "\n",
    "## Models\n",
    "from sklearn import linear_model\n",
    "from sklearn.linear_model import LogisticRegression\n",
    "from sklearn.ensemble import RandomForestClassifier\n",
    "from sklearn.linear_model import Perceptron\n",
    "from sklearn.linear_model import SGDClassifier\n",
    "from sklearn.tree import DecisionTreeClassifier\n",
    "from sklearn.neighbors import KNeighborsClassifier\n",
    "from sklearn.svm import SVC, LinearSVC\n",
    "from sklearn.naive_bayes import GaussianNB\n",
    "!pip install xgboost\n",
    "from xgboost import XGBClassifier\n",
    "import xgboost as xgb\n",
    "\n",
    "from sklearn.preprocessing import LabelEncoder\n",
    "from sklearn.model_selection import train_test_split\n",
    "from sklearn.impute import KNNImputer"
   ]
  },
  {
   "cell_type": "code",
   "execution_count": 421,
   "id": "e661dd84",
   "metadata": {},
   "outputs": [
    {
     "data": {
      "text/html": [
       "<div>\n",
       "<style scoped>\n",
       "    .dataframe tbody tr th:only-of-type {\n",
       "        vertical-align: middle;\n",
       "    }\n",
       "\n",
       "    .dataframe tbody tr th {\n",
       "        vertical-align: top;\n",
       "    }\n",
       "\n",
       "    .dataframe thead th {\n",
       "        text-align: right;\n",
       "    }\n",
       "</style>\n",
       "<table border=\"1\" class=\"dataframe\">\n",
       "  <thead>\n",
       "    <tr style=\"text-align: right;\">\n",
       "      <th></th>\n",
       "      <th>Agent_id</th>\n",
       "      <th>status</th>\n",
       "      <th>lost_reason</th>\n",
       "      <th>budget</th>\n",
       "      <th>lease</th>\n",
       "      <th>movein</th>\n",
       "      <th>source</th>\n",
       "      <th>source_city</th>\n",
       "      <th>source_country</th>\n",
       "      <th>utm_source</th>\n",
       "      <th>utm_medium</th>\n",
       "      <th>des_city</th>\n",
       "      <th>des_country</th>\n",
       "      <th>room_type</th>\n",
       "      <th>lead_id</th>\n",
       "    </tr>\n",
       "  </thead>\n",
       "  <tbody>\n",
       "    <tr>\n",
       "      <th>0</th>\n",
       "      <td>1deba9e96f404694373de9749ddd1ca8aa7bb823145a6f...</td>\n",
       "      <td>LOST</td>\n",
       "      <td>Not responding</td>\n",
       "      <td>NaN</td>\n",
       "      <td>NaN</td>\n",
       "      <td>NaN</td>\n",
       "      <td>9b2d5b4678781e53038e91ea5324530a03f27dc1d0e5f6...</td>\n",
       "      <td>9b2d5b4678781e53038e91ea5324530a03f27dc1d0e5f6...</td>\n",
       "      <td>9b2d5b4678781e53038e91ea5324530a03f27dc1d0e5f6...</td>\n",
       "      <td>3d59f7548e1af2151b64135003ce63c0a484c26b9b8b16...</td>\n",
       "      <td>268ad70eb5bc4737a2ae28162cbca30118cc94520e49ef...</td>\n",
       "      <td>ecc0e7dc084f141b29479058967d0bc07dee25d9690a98...</td>\n",
       "      <td>8d23a6e37e0a6431a8f1b43a91026dcff51170a89a6512...</td>\n",
       "      <td>NaN</td>\n",
       "      <td>cd5dc0d9393f3980d11d4ba6f88f8110c2b7a7f7796307...</td>\n",
       "    </tr>\n",
       "    <tr>\n",
       "      <th>1</th>\n",
       "      <td>299ae77a4ef350ae0dd37d6bba1c002d03444fb1edb236...</td>\n",
       "      <td>LOST</td>\n",
       "      <td>Low budget</td>\n",
       "      <td>NaN</td>\n",
       "      <td>NaN</td>\n",
       "      <td>NaN</td>\n",
       "      <td>9b2d5b4678781e53038e91ea5324530a03f27dc1d0e5f6...</td>\n",
       "      <td>9b2d5b4678781e53038e91ea5324530a03f27dc1d0e5f6...</td>\n",
       "      <td>9b2d5b4678781e53038e91ea5324530a03f27dc1d0e5f6...</td>\n",
       "      <td>3d59f7548e1af2151b64135003ce63c0a484c26b9b8b16...</td>\n",
       "      <td>268ad70eb5bc4737a2ae28162cbca30118cc94520e49ef...</td>\n",
       "      <td>5372372f3bf5896820cb2819300c3e681820d82c6efc54...</td>\n",
       "      <td>8d23a6e37e0a6431a8f1b43a91026dcff51170a89a6512...</td>\n",
       "      <td>NaN</td>\n",
       "      <td>b94693673a5f7178d1b114e4004ad52377d3244dd24a3d...</td>\n",
       "    </tr>\n",
       "    <tr>\n",
       "      <th>2</th>\n",
       "      <td>c213697430c006013012dd2aca82dd9732aa0a1a6bca13...</td>\n",
       "      <td>LOST</td>\n",
       "      <td>Not responding</td>\n",
       "      <td>£121 - £180 Per Week</td>\n",
       "      <td>Full Year Course Stay 40 - 44 weeks</td>\n",
       "      <td>31/08/22</td>\n",
       "      <td>7aae3e886e89fc1187a5c47d6cea1c22998ee610ade1f2...</td>\n",
       "      <td>9b8cc3c63cdf447e463c11544924bf027945cbd29675f7...</td>\n",
       "      <td>e09e10e67812e9d236ad900e5d46b4308fc62f5d69446a...</td>\n",
       "      <td>bbdefa2950f49882f295b1285d4fa9dec45fc4144bfb07...</td>\n",
       "      <td>09076eb7665d1fb9389c7c4517fee0b00e43092eb34821...</td>\n",
       "      <td>11ab03a1a8c367191355c152f39fe28cae5e426fce49ef...</td>\n",
       "      <td>8d23a6e37e0a6431a8f1b43a91026dcff51170a89a6512...</td>\n",
       "      <td>Ensuite</td>\n",
       "      <td>96ea4e2bf04496c044745938c0299c264c3f4ba079e572...</td>\n",
       "    </tr>\n",
       "    <tr>\n",
       "      <th>3</th>\n",
       "      <td>eac9815a500f908736d303e23aa227f0957177b0e6756b...</td>\n",
       "      <td>LOST</td>\n",
       "      <td>Low budget</td>\n",
       "      <td>0-0</td>\n",
       "      <td>0</td>\n",
       "      <td>NaN</td>\n",
       "      <td>ba2d0a29556ac20f86f45e4543c0825428cba33fd7a9ea...</td>\n",
       "      <td>a5f0d2d08eb0592087e3a3a2f9c1ba2c67cc30f2efd2bd...</td>\n",
       "      <td>e09e10e67812e9d236ad900e5d46b4308fc62f5d69446a...</td>\n",
       "      <td>bbdefa2950f49882f295b1285d4fa9dec45fc4144bfb07...</td>\n",
       "      <td>09076eb7665d1fb9389c7c4517fee0b00e43092eb34821...</td>\n",
       "      <td>19372fa44c57a01c37a5a8418779ca3d99b0b59731fb35...</td>\n",
       "      <td>8d23a6e37e0a6431a8f1b43a91026dcff51170a89a6512...</td>\n",
       "      <td>NaN</td>\n",
       "      <td>1d2b34d8add02a182a4129023766ca4585a8ddced0e5b3...</td>\n",
       "    </tr>\n",
       "    <tr>\n",
       "      <th>4</th>\n",
       "      <td>1deba9e96f404694373de9749ddd1ca8aa7bb823145a6f...</td>\n",
       "      <td>LOST</td>\n",
       "      <td>Junk lead</td>\n",
       "      <td>NaN</td>\n",
       "      <td>NaN</td>\n",
       "      <td>NaN</td>\n",
       "      <td>9b2d5b4678781e53038e91ea5324530a03f27dc1d0e5f6...</td>\n",
       "      <td>9b2d5b4678781e53038e91ea5324530a03f27dc1d0e5f6...</td>\n",
       "      <td>9b2d5b4678781e53038e91ea5324530a03f27dc1d0e5f6...</td>\n",
       "      <td>3d59f7548e1af2151b64135003ce63c0a484c26b9b8b16...</td>\n",
       "      <td>268ad70eb5bc4737a2ae28162cbca30118cc94520e49ef...</td>\n",
       "      <td>9b2d5b4678781e53038e91ea5324530a03f27dc1d0e5f6...</td>\n",
       "      <td>9b2d5b4678781e53038e91ea5324530a03f27dc1d0e5f6...</td>\n",
       "      <td>NaN</td>\n",
       "      <td>fc10fffd29cfbe93c55158fb47752a7501c211d253468c...</td>\n",
       "    </tr>\n",
       "  </tbody>\n",
       "</table>\n",
       "</div>"
      ],
      "text/plain": [
       "                                            Agent_id status     lost_reason  \\\n",
       "0  1deba9e96f404694373de9749ddd1ca8aa7bb823145a6f...   LOST  Not responding   \n",
       "1  299ae77a4ef350ae0dd37d6bba1c002d03444fb1edb236...   LOST      Low budget   \n",
       "2  c213697430c006013012dd2aca82dd9732aa0a1a6bca13...   LOST  Not responding   \n",
       "3  eac9815a500f908736d303e23aa227f0957177b0e6756b...   LOST      Low budget   \n",
       "4  1deba9e96f404694373de9749ddd1ca8aa7bb823145a6f...   LOST       Junk lead   \n",
       "\n",
       "                 budget                                lease    movein  \\\n",
       "0                   NaN                                  NaN       NaN   \n",
       "1                   NaN                                  NaN       NaN   \n",
       "2  £121 - £180 Per Week  Full Year Course Stay 40 - 44 weeks  31/08/22   \n",
       "3                   0-0                                    0       NaN   \n",
       "4                   NaN                                  NaN       NaN   \n",
       "\n",
       "                                              source  \\\n",
       "0  9b2d5b4678781e53038e91ea5324530a03f27dc1d0e5f6...   \n",
       "1  9b2d5b4678781e53038e91ea5324530a03f27dc1d0e5f6...   \n",
       "2  7aae3e886e89fc1187a5c47d6cea1c22998ee610ade1f2...   \n",
       "3  ba2d0a29556ac20f86f45e4543c0825428cba33fd7a9ea...   \n",
       "4  9b2d5b4678781e53038e91ea5324530a03f27dc1d0e5f6...   \n",
       "\n",
       "                                         source_city  \\\n",
       "0  9b2d5b4678781e53038e91ea5324530a03f27dc1d0e5f6...   \n",
       "1  9b2d5b4678781e53038e91ea5324530a03f27dc1d0e5f6...   \n",
       "2  9b8cc3c63cdf447e463c11544924bf027945cbd29675f7...   \n",
       "3  a5f0d2d08eb0592087e3a3a2f9c1ba2c67cc30f2efd2bd...   \n",
       "4  9b2d5b4678781e53038e91ea5324530a03f27dc1d0e5f6...   \n",
       "\n",
       "                                      source_country  \\\n",
       "0  9b2d5b4678781e53038e91ea5324530a03f27dc1d0e5f6...   \n",
       "1  9b2d5b4678781e53038e91ea5324530a03f27dc1d0e5f6...   \n",
       "2  e09e10e67812e9d236ad900e5d46b4308fc62f5d69446a...   \n",
       "3  e09e10e67812e9d236ad900e5d46b4308fc62f5d69446a...   \n",
       "4  9b2d5b4678781e53038e91ea5324530a03f27dc1d0e5f6...   \n",
       "\n",
       "                                          utm_source  \\\n",
       "0  3d59f7548e1af2151b64135003ce63c0a484c26b9b8b16...   \n",
       "1  3d59f7548e1af2151b64135003ce63c0a484c26b9b8b16...   \n",
       "2  bbdefa2950f49882f295b1285d4fa9dec45fc4144bfb07...   \n",
       "3  bbdefa2950f49882f295b1285d4fa9dec45fc4144bfb07...   \n",
       "4  3d59f7548e1af2151b64135003ce63c0a484c26b9b8b16...   \n",
       "\n",
       "                                          utm_medium  \\\n",
       "0  268ad70eb5bc4737a2ae28162cbca30118cc94520e49ef...   \n",
       "1  268ad70eb5bc4737a2ae28162cbca30118cc94520e49ef...   \n",
       "2  09076eb7665d1fb9389c7c4517fee0b00e43092eb34821...   \n",
       "3  09076eb7665d1fb9389c7c4517fee0b00e43092eb34821...   \n",
       "4  268ad70eb5bc4737a2ae28162cbca30118cc94520e49ef...   \n",
       "\n",
       "                                            des_city  \\\n",
       "0  ecc0e7dc084f141b29479058967d0bc07dee25d9690a98...   \n",
       "1  5372372f3bf5896820cb2819300c3e681820d82c6efc54...   \n",
       "2  11ab03a1a8c367191355c152f39fe28cae5e426fce49ef...   \n",
       "3  19372fa44c57a01c37a5a8418779ca3d99b0b59731fb35...   \n",
       "4  9b2d5b4678781e53038e91ea5324530a03f27dc1d0e5f6...   \n",
       "\n",
       "                                         des_country room_type  \\\n",
       "0  8d23a6e37e0a6431a8f1b43a91026dcff51170a89a6512...       NaN   \n",
       "1  8d23a6e37e0a6431a8f1b43a91026dcff51170a89a6512...       NaN   \n",
       "2  8d23a6e37e0a6431a8f1b43a91026dcff51170a89a6512...   Ensuite   \n",
       "3  8d23a6e37e0a6431a8f1b43a91026dcff51170a89a6512...       NaN   \n",
       "4  9b2d5b4678781e53038e91ea5324530a03f27dc1d0e5f6...       NaN   \n",
       "\n",
       "                                             lead_id  \n",
       "0  cd5dc0d9393f3980d11d4ba6f88f8110c2b7a7f7796307...  \n",
       "1  b94693673a5f7178d1b114e4004ad52377d3244dd24a3d...  \n",
       "2  96ea4e2bf04496c044745938c0299c264c3f4ba079e572...  \n",
       "3  1d2b34d8add02a182a4129023766ca4585a8ddced0e5b3...  \n",
       "4  fc10fffd29cfbe93c55158fb47752a7501c211d253468c...  "
      ]
     },
     "execution_count": 421,
     "metadata": {},
     "output_type": "execute_result"
    }
   ],
   "source": [
    "df = pd.read_csv('Data_Science_Internship - Dump.csv').drop(['Unnamed: 0'], axis=1)\n",
    "df.head()"
   ]
  },
  {
   "cell_type": "code",
   "execution_count": 422,
   "id": "dfc1a1c6",
   "metadata": {},
   "outputs": [
    {
     "name": "stdout",
     "output_type": "stream",
     "text": [
      "The string '9b2d5b4678781e53038e91ea5324530a03f27dc1d0e5f6c9bc9d493a23be9de0' occurs 31791 times in the DataFrame.\n"
     ]
    }
   ],
   "source": [
    "df = df.drop(columns=['Agent_id', 'lead_id'], axis=1)\n",
    "\n",
    "# set the columns to consider for null values\n",
    "columns_to_consider = ['lost_reason', 'budget', 'lease', 'movein','source', 'source_city', 'source_country', \n",
    "                       'utm_medium','des_city', 'des_country']\n",
    "\n",
    "# set the minimum number of non-null values required for each row to be kept\n",
    "thresh = len(columns_to_consider) / 2\n",
    "\n",
    "# remove rows where 50% of the columns being considered have null values\n",
    "df = df.dropna(subset=columns_to_consider, thresh=thresh)\n",
    "\n",
    "search_string = '9b2d5b4678781e53038e91ea5324530a03f27dc1d0e5f6c9bc9d493a23be9de0' \n",
    "\n",
    "# Count the number of occurrences of the string in the DataFrame\n",
    "count = (df == search_string).sum().sum()\n",
    "\n",
    "# Print the result\n",
    "print(f\"The string '{search_string}' occurs {count} times in the DataFrame.\")"
   ]
  },
  {
   "cell_type": "code",
   "execution_count": 423,
   "id": "126fd370",
   "metadata": {},
   "outputs": [
    {
     "name": "stdout",
     "output_type": "stream",
     "text": [
      "The percentage of NULL Values in differenct columns are:\n"
     ]
    },
    {
     "data": {
      "text/plain": [
       "status             0.000000\n",
       "lost_reason        6.634713\n",
       "budget             7.975473\n",
       "lease              5.043505\n",
       "movein            29.384459\n",
       "source            12.848414\n",
       "source_city       19.066433\n",
       "source_country    18.615195\n",
       "utm_source         0.131701\n",
       "utm_medium         6.874366\n",
       "des_city           5.460198\n",
       "des_country        5.460198\n",
       "room_type         50.717879\n",
       "dtype: float64"
      ]
     },
     "execution_count": 423,
     "metadata": {},
     "output_type": "execute_result"
    }
   ],
   "source": [
    "# drop rows with status other than 'WON' or 'LOST'\n",
    "df = df[df['status'].isin(['WON', 'LOST'])]\n",
    "\n",
    "# replace long strings with NaN\n",
    "cols_to_exclude = ['Agent_id'] # exclude the Agent_id column\n",
    "df.loc[:, ~df.columns.isin(cols_to_exclude)] = df.loc[:, ~df.columns.isin(cols_to_exclude)].apply(lambda x: x.mask(x.apply(lambda y: str(y) == search_string)))\n",
    "\n",
    "null_perc = df.isnull().sum() / len(df) * 100\n",
    "null_perc = null_perc.fillna(\"No Null Values\")\n",
    "\n",
    "print('The percentage of NULL Values in differenct columns are:')\n",
    "null_perc"
   ]
  },
  {
   "cell_type": "code",
   "execution_count": 424,
   "id": "4943d18e",
   "metadata": {},
   "outputs": [
    {
     "data": {
      "text/plain": [
       "LOST    43244\n",
       "WON      3073\n",
       "Name: status, dtype: int64"
      ]
     },
     "execution_count": 424,
     "metadata": {},
     "output_type": "execute_result"
    }
   ],
   "source": [
    "df['status'].value_counts()"
   ]
  },
  {
   "cell_type": "code",
   "execution_count": 425,
   "id": "e82c4dc0",
   "metadata": {},
   "outputs": [
    {
     "name": "stderr",
     "output_type": "stream",
     "text": [
      "C:\\Users\\devan\\Anaconda3\\lib\\site-packages\\seaborn\\_decorators.py:36: FutureWarning: Pass the following variable as a keyword arg: x. From version 0.12, the only valid positional argument will be `data`, and passing other arguments without an explicit keyword will result in an error or misinterpretation.\n",
      "  warnings.warn(\n"
     ]
    },
    {
     "data": {
      "text/plain": [
       "<AxesSubplot: xlabel='status', ylabel='count'>"
      ]
     },
     "execution_count": 425,
     "metadata": {},
     "output_type": "execute_result"
    },
    {
     "data": {
      "image/png": "[encoded data removed]",
      "text/plain": [
       "<Figure size 432x288 with 1 Axes>"
      ]
     },
     "metadata": {
      "needs_background": "light"
     },
     "output_type": "display_data"
    }
   ],
   "source": [
    "sns.countplot(df['status'])"
   ]
  },
  {
   "cell_type": "code",
   "execution_count": 426,
   "id": "6f9caeaf",
   "metadata": {},
   "outputs": [],
   "source": [
    "# Now we will take care of null values in each column one by one, starting from the column \n",
    "# with highest percentage of null values."
   ]
  },
  {
   "cell_type": "code",
   "execution_count": 427,
   "id": "6d8a4fa6",
   "metadata": {},
   "outputs": [
    {
     "data": {
      "text/plain": [
       "Ensuite         54.232016\n",
       "Studio          27.670201\n",
       "Entire Place    18.084640\n",
       "Non-Ensuite      0.008762\n",
       "Twin-Studio      0.004381\n",
       "Name: room_type, dtype: float64"
      ]
     },
     "execution_count": 427,
     "metadata": {},
     "output_type": "execute_result"
    }
   ],
   "source": [
    "df['room_type'].value_counts(normalize=True) * 100"
   ]
  },
  {
   "cell_type": "code",
   "execution_count": 428,
   "id": "882c7e46",
   "metadata": {},
   "outputs": [],
   "source": [
    "# since most people opt for an 'Ensuite\" room and almost 55% values are Ensuite in this column,\n",
    "# we can use mode imputation.\n",
    "df['room_type'] = df['room_type'].fillna(\"Ensuite\")\n",
    "#df = df.drop(['room_type'], axis =1)"
   ]
  },
  {
   "cell_type": "code",
   "execution_count": 429,
   "id": "c3a3fcf1",
   "metadata": {},
   "outputs": [
    {
     "data": {
      "text/plain": [
       "count        32707\n",
       "unique         469\n",
       "top       10/09/22\n",
       "freq          2450\n",
       "Name: movein, dtype: object"
      ]
     },
     "execution_count": 429,
     "metadata": {},
     "output_type": "execute_result"
    }
   ],
   "source": [
    "df['movein'].describe()"
   ]
  },
  {
   "cell_type": "code",
   "execution_count": 430,
   "id": "743a6d3d",
   "metadata": {},
   "outputs": [],
   "source": [
    "df['movein'] = df['movein'].fillna(\"Unknown\")"
   ]
  },
  {
   "cell_type": "code",
   "execution_count": 431,
   "id": "b9c44504",
   "metadata": {},
   "outputs": [
    {
     "data": {
      "text/plain": [
       "count                                                 37486\n",
       "unique                                                 4315\n",
       "top       ecc0e7dc084f141b29479058967d0bc07dee25d9690a98...\n",
       "freq                                                   3020\n",
       "Name: source_city, dtype: object"
      ]
     },
     "execution_count": 431,
     "metadata": {},
     "output_type": "execute_result"
    }
   ],
   "source": [
    "df['source_city'].describe()"
   ]
  },
  {
   "cell_type": "code",
   "execution_count": 432,
   "id": "cce2a017",
   "metadata": {},
   "outputs": [],
   "source": [
    "df['source_city'] = df['source_city'].fillna(\"Not_disclosed\")"
   ]
  },
  {
   "cell_type": "code",
   "execution_count": 433,
   "id": "c9face39",
   "metadata": {},
   "outputs": [
    {
     "data": {
      "text/plain": [
       "count                                                 37695\n",
       "unique                                                  184\n",
       "top       e09e10e67812e9d236ad900e5d46b4308fc62f5d69446a...\n",
       "freq                                                  18667\n",
       "Name: source_country, dtype: object"
      ]
     },
     "execution_count": 433,
     "metadata": {},
     "output_type": "execute_result"
    }
   ],
   "source": [
    "df['source_country'].describe()"
   ]
  },
  {
   "cell_type": "code",
   "execution_count": 434,
   "id": "3c65bc9c",
   "metadata": {},
   "outputs": [
    {
     "data": {
      "text/plain": [
       "e09e10e67812e9d236ad900e5d46b4308fc62f5d69446a9750aa698e797e9c96    49.521157\n",
       "8da82000ef9c4468ba47362a924b895e40662fed846942a1870a674e5c6d1fc2    18.450723\n",
       "e39b0c5e88f19053d3a917669bc9d60729f351e064ca0c94f5dc73f4e676333f     5.326966\n",
       "38fe804a1f9ec032ad876bd7192c1f706e1402831e163cf72702b1f451f40cac     2.631649\n",
       "0207c236c5ad89235d814b1e1807f6fdc1930810439489f76600e1672338e42b     1.222974\n",
       "                                                                      ...    \n",
       "0b6e4801d2a43e3c5dc06d5b68524bd9e80e425610b531d977b5713d59df47b6     0.002653\n",
       "4a89aa60736d863a5fda8aa2305e299e1c3bea690fe4775363fbf2762102b273     0.002653\n",
       "b828c41f8b20d533c028d8a4e1019fe0b16bb14d4b7114a662365d08e89a1bea     0.002653\n",
       "39ae135c41c0e9f97bdbe7449f5320052c6a699cbf0fcbd95dc17f6465f0d34e     0.002653\n",
       "282a5dbb9d8cb1ea0caf847b5aaca66cf1a76b5e57ddbbd2dd7db8204f553c5c     0.002653\n",
       "Name: source_country, Length: 184, dtype: float64"
      ]
     },
     "execution_count": 434,
     "metadata": {},
     "output_type": "execute_result"
    }
   ],
   "source": [
    "df['source_country'].value_counts(normalize=True) * 100"
   ]
  },
  {
   "cell_type": "code",
   "execution_count": 435,
   "id": "17ce9cfa",
   "metadata": {},
   "outputs": [],
   "source": [
    "mode = df['source_country'].mode()[0]\n",
    "df['source_country'] = df['source_country'].fillna(mode)"
   ]
  },
  {
   "cell_type": "code",
   "execution_count": 436,
   "id": "c6c67970",
   "metadata": {},
   "outputs": [
    {
     "data": {
      "text/plain": [
       "count                                                 40366\n",
       "unique                                                  682\n",
       "top       7aae3e886e89fc1187a5c47d6cea1c22998ee610ade1f2...\n",
       "freq                                                  19092\n",
       "Name: source, dtype: object"
      ]
     },
     "execution_count": 436,
     "metadata": {},
     "output_type": "execute_result"
    }
   ],
   "source": [
    "df['source'].describe()"
   ]
  },
  {
   "cell_type": "code",
   "execution_count": 437,
   "id": "211683cf",
   "metadata": {},
   "outputs": [
    {
     "data": {
      "text/plain": [
       "7aae3e886e89fc1187a5c47d6cea1c22998ee610ade1f2b7c51be879f0c37ca8    47.297230\n",
       "7bcfca0e9d73371699b0adbf1c691e02108fa64f02f4dbe24a0217f139a9b916     9.398999\n",
       "ba2d0a29556ac20f86f45e4543c0825428cba33fd7a9eaa29e3f169d2ca43b2b     8.883714\n",
       "146fb4ecbe78caa24102bbaac12e2559a8c8e32fb116d36e3553a709fce40549     5.474905\n",
       "d684761c17c11590f6e2525b48141cb2c0c6f2be5df4e229dae06e64c5c41b64     5.274241\n",
       "                                                                      ...    \n",
       "ab4556b4118e9689282ac334ed94636124b8d4a531e2db6c2623eb0437de1ab2     0.002477\n",
       "ff25c08fc834360514f4fbc6434c2bb381ad04ea984ea86c2a0f5fb6ec94a831     0.002477\n",
       "fde7c38145e98695f302f2eb113737bcf9e6b3b0ec4ab2723f4d6610cc97813f     0.002477\n",
       "f4dd29fa0ded5c9ca30c96015bf8147165bfce38964c3842352d7a013b870ac9     0.002477\n",
       "93bee3e177d17c128e6a6af7b88fd675d7ec729b1a88ae13c582248dfd702378     0.002477\n",
       "Name: source, Length: 682, dtype: float64"
      ]
     },
     "execution_count": 437,
     "metadata": {},
     "output_type": "execute_result"
    }
   ],
   "source": [
    "df['source'].value_counts(normalize=True) * 100"
   ]
  },
  {
   "cell_type": "code",
   "execution_count": 438,
   "id": "078379a6",
   "metadata": {},
   "outputs": [],
   "source": [
    "mode = df['source'].mode()[0]\n",
    "df['source'] = df['source'].fillna(mode)"
   ]
  },
  {
   "cell_type": "code",
   "execution_count": 439,
   "id": "3d3c8345",
   "metadata": {},
   "outputs": [
    {
     "data": {
      "text/plain": [
       "count                   42623\n",
       "unique                   1851\n",
       "top       £60 - £120 Per week\n",
       "freq                     9750\n",
       "Name: budget, dtype: object"
      ]
     },
     "execution_count": 439,
     "metadata": {},
     "output_type": "execute_result"
    }
   ],
   "source": [
    "df['budget'].describe()"
   ]
  },
  {
   "cell_type": "code",
   "execution_count": 440,
   "id": "6d9d2206",
   "metadata": {},
   "outputs": [],
   "source": [
    "df['budget'] = df['budget'].fillna(\"Not_specified\")"
   ]
  },
  {
   "cell_type": "code",
   "execution_count": 441,
   "id": "47e1a50b",
   "metadata": {},
   "outputs": [
    {
     "data": {
      "text/plain": [
       "count                                                 43133\n",
       "unique                                                   63\n",
       "top       09076eb7665d1fb9389c7c4517fee0b00e43092eb34821...\n",
       "freq                                                  31502\n",
       "Name: utm_medium, dtype: object"
      ]
     },
     "execution_count": 441,
     "metadata": {},
     "output_type": "execute_result"
    }
   ],
   "source": [
    "df['utm_medium'].describe()"
   ]
  },
  {
   "cell_type": "code",
   "execution_count": 442,
   "id": "66a0697d",
   "metadata": {},
   "outputs": [],
   "source": [
    "mode = df['utm_medium'].mode()[0]\n",
    "df['utm_medium'] = df['utm_medium'].fillna(mode)"
   ]
  },
  {
   "cell_type": "code",
   "execution_count": 443,
   "id": "7ca22b0e",
   "metadata": {},
   "outputs": [
    {
     "data": {
      "text/plain": [
       "count                43244\n",
       "unique                  30\n",
       "top       Low availability\n",
       "freq                  8892\n",
       "Name: lost_reason, dtype: object"
      ]
     },
     "execution_count": 443,
     "metadata": {},
     "output_type": "execute_result"
    }
   ],
   "source": [
    "df['lost_reason'].describe()"
   ]
  },
  {
   "cell_type": "code",
   "execution_count": 444,
   "id": "0966b1db",
   "metadata": {},
   "outputs": [],
   "source": [
    "df['lost_reason'] = df['lost_reason'].fillna(\"lead_won\")"
   ]
  },
  {
   "cell_type": "code",
   "execution_count": 445,
   "id": "2d893324",
   "metadata": {},
   "outputs": [
    {
     "data": {
      "text/plain": [
       "count                                   43981\n",
       "unique                                    311\n",
       "top       Full Year Course Stay 40 - 44 weeks\n",
       "freq                                    11000\n",
       "Name: lease, dtype: object"
      ]
     },
     "execution_count": 445,
     "metadata": {},
     "output_type": "execute_result"
    }
   ],
   "source": [
    "df['lease'].describe()"
   ]
  },
  {
   "cell_type": "code",
   "execution_count": 446,
   "id": "b9b4d183",
   "metadata": {},
   "outputs": [],
   "source": [
    "df['lease'] = df['lease'].fillna(\"unknown\")"
   ]
  },
  {
   "cell_type": "code",
   "execution_count": 447,
   "id": "b917e8d2",
   "metadata": {},
   "outputs": [
    {
     "data": {
      "text/plain": [
       "count                                                 43788\n",
       "unique                                                  219\n",
       "top       ecc0e7dc084f141b29479058967d0bc07dee25d9690a98...\n",
       "freq                                                   7323\n",
       "Name: des_city, dtype: object"
      ]
     },
     "execution_count": 447,
     "metadata": {},
     "output_type": "execute_result"
    }
   ],
   "source": [
    "df['des_city'].describe()"
   ]
  },
  {
   "cell_type": "code",
   "execution_count": 448,
   "id": "1a0a6aca",
   "metadata": {},
   "outputs": [],
   "source": [
    "df['des_city'] = df['des_city'].fillna(\"unknown\")"
   ]
  },
  {
   "cell_type": "code",
   "execution_count": 449,
   "id": "be917939",
   "metadata": {},
   "outputs": [
    {
     "data": {
      "text/plain": [
       "count                                                 43788\n",
       "unique                                                   14\n",
       "top       8d23a6e37e0a6431a8f1b43a91026dcff51170a89a6512...\n",
       "freq                                                  42391\n",
       "Name: des_country, dtype: object"
      ]
     },
     "execution_count": 449,
     "metadata": {},
     "output_type": "execute_result"
    }
   ],
   "source": [
    "df['des_country'].describe()"
   ]
  },
  {
   "cell_type": "code",
   "execution_count": 450,
   "id": "b62aa6d9",
   "metadata": {},
   "outputs": [],
   "source": [
    "mode = df['des_country'].mode()[0]\n",
    "df['des_country'] = df['des_country'].fillna(mode)"
   ]
  },
  {
   "cell_type": "code",
   "execution_count": 451,
   "id": "88aebef7",
   "metadata": {},
   "outputs": [
    {
     "data": {
      "text/plain": [
       "count                                                 46256\n",
       "unique                                                   34\n",
       "top       bbdefa2950f49882f295b1285d4fa9dec45fc4144bfb07...\n",
       "freq                                                  30873\n",
       "Name: utm_source, dtype: object"
      ]
     },
     "execution_count": 451,
     "metadata": {},
     "output_type": "execute_result"
    }
   ],
   "source": [
    "df['utm_source'].describe()"
   ]
  },
  {
   "cell_type": "code",
   "execution_count": 452,
   "id": "4babae87",
   "metadata": {},
   "outputs": [],
   "source": [
    "mode = df['utm_source'].mode()[0]\n",
    "df['utm_source'] = df['utm_source'].fillna(mode)"
   ]
  },
  {
   "cell_type": "code",
   "execution_count": 453,
   "id": "41709c50",
   "metadata": {},
   "outputs": [
    {
     "data": {
      "text/plain": [
       "status            0\n",
       "lost_reason       0\n",
       "budget            0\n",
       "lease             0\n",
       "movein            0\n",
       "source            0\n",
       "source_city       0\n",
       "source_country    0\n",
       "utm_source        0\n",
       "utm_medium        0\n",
       "des_city          0\n",
       "des_country       0\n",
       "room_type         0\n",
       "dtype: int64"
      ]
     },
     "execution_count": 453,
     "metadata": {},
     "output_type": "execute_result"
    }
   ],
   "source": [
    "df.isnull().sum()"
   ]
  },
  {
   "cell_type": "code",
   "execution_count": 454,
   "id": "d540f919",
   "metadata": {},
   "outputs": [],
   "source": [
    "# Encode categorical features\n",
    "le = LabelEncoder()\n",
    "for col in df.select_dtypes(include=['object']):\n",
    "    df[col] = le.fit_transform(df[col])"
   ]
  },
  {
   "cell_type": "code",
   "execution_count": 455,
   "id": "905ea662",
   "metadata": {},
   "outputs": [],
   "source": [
    "X = df.drop(['status'], axis=1)\n",
    "y = df['status']"
   ]
  },
  {
   "cell_type": "code",
   "execution_count": 456,
   "id": "4f68dd38",
   "metadata": {},
   "outputs": [
    {
     "name": "stdout",
     "output_type": "stream",
     "text": [
      "(31032, 12)\n",
      "(15285, 12)\n"
     ]
    }
   ],
   "source": [
    "from sklearn.model_selection import train_test_split\n",
    "X_train, X_test, Y_train, y_test = train_test_split(X, y, test_size=0.33, stratify = y, random_state=42)\n",
    "print(X_train.shape)\n",
    "print(X_test.shape)"
   ]
  },
  {
   "cell_type": "markdown",
   "id": "bd5a24b0",
   "metadata": {},
   "source": [
    "##### Balancing the dataset using SMOTE method"
   ]
  },
  {
   "cell_type": "code",
   "execution_count": 457,
   "id": "a3bbf63b",
   "metadata": {},
   "outputs": [
    {
     "data": {
      "text/plain": [
       "(57946, 12)"
      ]
     },
     "execution_count": 457,
     "metadata": {},
     "output_type": "execute_result"
    }
   ],
   "source": [
    "# Since our classes are highly skewed we should make them equivalent in order to have a normal distribution of the classes.\n",
    "\n",
    "from imblearn.over_sampling import SMOTE\n",
    "\n",
    "smt = SMOTE(random_state=42)\n",
    "\n",
    "X_res, y_res = smt.fit_resample(X_train, Y_train)\n",
    "\n",
    "X_res.shape"
   ]
  },
  {
   "cell_type": "code",
   "execution_count": 458,
   "id": "72799632",
   "metadata": {},
   "outputs": [],
   "source": [
    "# importing sklearn StandardScaler class which is for Standardization\n",
    "from sklearn.preprocessing import StandardScaler\n",
    "\n",
    "sc = StandardScaler() # creating an instance of the class object\n",
    "X_res_scaled = pd.DataFrame(sc.fit_transform(X_res), columns=X_res.columns)  #fit and transforming StandardScaler the dataframe "
   ]
  },
  {
   "cell_type": "code",
   "execution_count": 487,
   "id": "g6_BDUzXyvwC",
   "metadata": {
    "colab": {
     "base_uri": "https://localhost:8080/",
     "height": 1000
    },
    "id": "g6_BDUzXyvwC",
    "outputId": "687d4c54-4e26-4c98-844f-f9733887a1ca"
   },
   "outputs": [
    {
     "data": {
      "text/html": [
       "<div>\n",
       "<style scoped>\n",
       "    .dataframe tbody tr th:only-of-type {\n",
       "        vertical-align: middle;\n",
       "    }\n",
       "\n",
       "    .dataframe tbody tr th {\n",
       "        vertical-align: top;\n",
       "    }\n",
       "\n",
       "    .dataframe thead th {\n",
       "        text-align: right;\n",
       "    }\n",
       "</style>\n",
       "<table border=\"1\" class=\"dataframe\">\n",
       "  <thead>\n",
       "    <tr style=\"text-align: right;\">\n",
       "      <th></th>\n",
       "      <th>Model</th>\n",
       "    </tr>\n",
       "    <tr>\n",
       "      <th>Weighted F1</th>\n",
       "      <th></th>\n",
       "    </tr>\n",
       "  </thead>\n",
       "  <tbody>\n",
       "    <tr>\n",
       "      <th>0.901629</th>\n",
       "      <td>Naive Bayes</td>\n",
       "    </tr>\n",
       "    <tr>\n",
       "      <th>0.862009</th>\n",
       "      <td>KNN</td>\n",
       "    </tr>\n",
       "    <tr>\n",
       "      <th>0.797336</th>\n",
       "      <td>Neural Network</td>\n",
       "    </tr>\n",
       "    <tr>\n",
       "      <th>0.073440</th>\n",
       "      <td>Logistic Regression</td>\n",
       "    </tr>\n",
       "    <tr>\n",
       "      <th>0.050377</th>\n",
       "      <td>Perceptron</td>\n",
       "    </tr>\n",
       "    <tr>\n",
       "      <th>0.035186</th>\n",
       "      <td>Random Forest</td>\n",
       "    </tr>\n",
       "    <tr>\n",
       "      <th>0.035186</th>\n",
       "      <td>Decision Tree</td>\n",
       "    </tr>\n",
       "    <tr>\n",
       "      <th>0.035186</th>\n",
       "      <td>XG Boost</td>\n",
       "    </tr>\n",
       "    <tr>\n",
       "      <th>0.009173</th>\n",
       "      <td>Stochastic Gradient Decent</td>\n",
       "    </tr>\n",
       "  </tbody>\n",
       "</table>\n",
       "</div>"
      ],
      "text/plain": [
       "                                  Model\n",
       "Weighted F1                            \n",
       "0.901629                    Naive Bayes\n",
       "0.862009                            KNN\n",
       "0.797336                 Neural Network\n",
       "0.073440            Logistic Regression\n",
       "0.050377                     Perceptron\n",
       "0.035186                  Random Forest\n",
       "0.035186                  Decision Tree\n",
       "0.035186                       XG Boost\n",
       "0.009173     Stochastic Gradient Decent"
      ]
     },
     "execution_count": 487,
     "metadata": {},
     "output_type": "execute_result"
    }
   ],
   "source": [
    "from sklearn .metrics import f1_score\n",
    "\n",
    "sgd = linear_model.SGDClassifier(max_iter=5, tol=None)\n",
    "sgd.fit(X_res_scaled, y_res)\n",
    "y_pred = sgd.predict(X_test)\n",
    "score_sgd = f1_score(y_test, y_pred, average='weighted')\n",
    "\n",
    "logreg = LogisticRegression(max_iter=10000)\n",
    "logreg.fit(X_res_scaled, y_res)\n",
    "y_pred = logreg.predict(X_test)\n",
    "score_log = f1_score(y_test, y_pred, average='weighted')\n",
    "\n",
    "knn = KNeighborsClassifier(n_neighbors = 3) \n",
    "knn.fit(X_res_scaled, y_res)  \n",
    "y_pred = knn.predict(X_test)  \n",
    "score_knn = f1_score(y_test, y_pred, average='weighted')\n",
    "\n",
    "gaussian = GaussianNB() \n",
    "gaussian.fit(X_res_scaled, y_res)  \n",
    "y_pred = gaussian.predict(X_test)\n",
    "score_gaussian = f1_score(y_test, y_pred, average='weighted')\n",
    "\n",
    "perceptron = Perceptron(max_iter=100)\n",
    "perceptron.fit(X_res_scaled, y_res)\n",
    "y_pred = perceptron.predict(X_test)\n",
    "score_perceptron = f1_score(y_test, y_pred, average='weighted')\n",
    "\n",
    "decision_tree = DecisionTreeClassifier() \n",
    "decision_tree.fit(X_res_scaled, y_res)  \n",
    "y_pred = decision_tree.predict(X_test)  \n",
    "score_decision_tree = f1_score(y_test, y_pred, average='weighted')\n",
    "\n",
    "random_forest = RandomForestClassifier(n_estimators=100)\n",
    "random_forest.fit(X_res_scaled, y_res)\n",
    "y_pred = random_forest.predict(X_test)\n",
    "score_random_forest = f1_score(y_test, y_pred, average='weighted')\n",
    "\n",
    "XGBoost = XGBClassifier()\n",
    "XGBoost.fit(X_res_scaled, y_res)\n",
    "y_pred = XGBoost.predict(X_test)\n",
    "score_XGBoost = f1_score(y_test, y_pred, average='weighted')\n",
    "\n",
    "from sklearn.neural_network import MLPClassifier\n",
    "\n",
    "MLPClassifier = MLPClassifier()\n",
    "MLPClassifier.fit(X_res_scaled, y_res)\n",
    "y_pred = MLPClassifier.predict(X_test)\n",
    "score_MLPClassifier = f1_score(y_test, y_pred, average='weighted')\n",
    "\n",
    "# comparing all the models\n",
    "\n",
    "results = pd.DataFrame({\n",
    "    'Model': ['KNN', 'Logistic Regression','Random Forest', 'Naive Bayes', 'Perceptron', \n",
    "              'Stochastic Gradient Decent','Decision Tree', 'XG Boost', 'Neural Network'],\n",
    "    'Weighted F1': [score_knn, score_log, score_random_forest, score_gaussian, score_perceptron, score_sgd, \n",
    "              score_decision_tree, score_XGBoost, score_MLPClassifier]})\n",
    "result_df = results.sort_values(by='Weighted F1', ascending=False)\n",
    "result_df = result_df.set_index('Weighted F1')\n",
    "result_df"
   ]
  },
  {
   "cell_type": "code",
   "execution_count": 488,
   "id": "7be01894",
   "metadata": {},
   "outputs": [
    {
     "data": {
      "text/html": [
       "<div>\n",
       "<style scoped>\n",
       "    .dataframe tbody tr th:only-of-type {\n",
       "        vertical-align: middle;\n",
       "    }\n",
       "\n",
       "    .dataframe tbody tr th {\n",
       "        vertical-align: top;\n",
       "    }\n",
       "\n",
       "    .dataframe thead th {\n",
       "        text-align: right;\n",
       "    }\n",
       "</style>\n",
       "<table border=\"1\" class=\"dataframe\">\n",
       "  <thead>\n",
       "    <tr style=\"text-align: right;\">\n",
       "      <th></th>\n",
       "      <th>Model</th>\n",
       "    </tr>\n",
       "    <tr>\n",
       "      <th>Recall</th>\n",
       "      <th></th>\n",
       "    </tr>\n",
       "  </thead>\n",
       "  <tbody>\n",
       "    <tr>\n",
       "      <th>1.000000</th>\n",
       "      <td>Logistic Regression</td>\n",
       "    </tr>\n",
       "    <tr>\n",
       "      <th>1.000000</th>\n",
       "      <td>Random Forest</td>\n",
       "    </tr>\n",
       "    <tr>\n",
       "      <th>1.000000</th>\n",
       "      <td>Perceptron</td>\n",
       "    </tr>\n",
       "    <tr>\n",
       "      <th>1.000000</th>\n",
       "      <td>Stochastic Gradient Decent</td>\n",
       "    </tr>\n",
       "    <tr>\n",
       "      <th>1.000000</th>\n",
       "      <td>Decision Tree</td>\n",
       "    </tr>\n",
       "    <tr>\n",
       "      <th>1.000000</th>\n",
       "      <td>XG Boost</td>\n",
       "    </tr>\n",
       "    <tr>\n",
       "      <th>0.702170</th>\n",
       "      <td>Neural Network</td>\n",
       "    </tr>\n",
       "    <tr>\n",
       "      <th>0.241617</th>\n",
       "      <td>KNN</td>\n",
       "    </tr>\n",
       "    <tr>\n",
       "      <th>0.000000</th>\n",
       "      <td>Naive Bayes</td>\n",
       "    </tr>\n",
       "  </tbody>\n",
       "</table>\n",
       "</div>"
      ],
      "text/plain": [
       "                               Model\n",
       "Recall                              \n",
       "1.000000         Logistic Regression\n",
       "1.000000               Random Forest\n",
       "1.000000                  Perceptron\n",
       "1.000000  Stochastic Gradient Decent\n",
       "1.000000               Decision Tree\n",
       "1.000000                    XG Boost\n",
       "0.702170              Neural Network\n",
       "0.241617                         KNN\n",
       "0.000000                 Naive Bayes"
      ]
     },
     "execution_count": 488,
     "metadata": {},
     "output_type": "execute_result"
    }
   ],
   "source": [
    "from sklearn .metrics import recall_score\n",
    "\n",
    "sgd = linear_model.SGDClassifier(max_iter=5, tol=None)\n",
    "sgd.fit(X_res_scaled, y_res)\n",
    "y_pred = sgd.predict(X_test)\n",
    "score_sgd = recall_score(y_test, y_pred)\n",
    "\n",
    "logreg = LogisticRegression(max_iter=10000)\n",
    "logreg.fit(X_res_scaled, y_res)\n",
    "y_pred = logreg.predict(X_test)\n",
    "score_log = recall_score(y_test, y_pred)\n",
    "\n",
    "knn = KNeighborsClassifier(n_neighbors = 3) \n",
    "knn.fit(X_res_scaled, y_res)  \n",
    "y_pred = knn.predict(X_test)  \n",
    "score_knn = recall_score(y_test, y_pred)\n",
    "\n",
    "gaussian = GaussianNB() \n",
    "gaussian.fit(X_res_scaled, y_res)  \n",
    "y_pred = gaussian.predict(X_test)\n",
    "score_gaussian = recall_score(y_test, y_pred)\n",
    "\n",
    "perceptron = Perceptron(max_iter=100)\n",
    "perceptron.fit(X_res_scaled, y_res)\n",
    "y_pred = perceptron.predict(X_test)\n",
    "score_perceptron = recall_score(y_test, y_pred)\n",
    "\n",
    "decision_tree = DecisionTreeClassifier() \n",
    "decision_tree.fit(X_res_scaled, y_res)  \n",
    "y_pred = decision_tree.predict(X_test)  \n",
    "score_decision_tree = recall_score(y_test, y_pred)\n",
    "\n",
    "random_forest = RandomForestClassifier(n_estimators=100)\n",
    "random_forest.fit(X_res_scaled, y_res)\n",
    "y_pred = random_forest.predict(X_test)\n",
    "score_random_forest = recall_score(y_test, y_pred)\n",
    "\n",
    "XGBoost = XGBClassifier()\n",
    "XGBoost.fit(X_res_scaled, y_res)\n",
    "y_pred = XGBoost.predict(X_test)\n",
    "score_XGBoost = recall_score(y_test, y_pred)\n",
    "\n",
    "from sklearn.neural_network import MLPClassifier\n",
    "\n",
    "MLPClassifier = MLPClassifier()\n",
    "MLPClassifier.fit(X_res_scaled, y_res)\n",
    "y_pred = MLPClassifier.predict(X_test)\n",
    "score_MLPClassifier = recall_score(y_test, y_pred)\n",
    "\n",
    "# comparing all the models\n",
    "\n",
    "results = pd.DataFrame({\n",
    "    'Model': ['KNN', 'Logistic Regression','Random Forest', 'Naive Bayes', 'Perceptron', \n",
    "              'Stochastic Gradient Decent','Decision Tree', 'XG Boost', 'Neural Network'],\n",
    "    'Recall': [score_knn, score_log, score_random_forest, score_gaussian, score_perceptron, score_sgd, \n",
    "              score_decision_tree, score_XGBoost, score_MLPClassifier]})\n",
    "result_df = results.sort_values(by='Recall', ascending=False)\n",
    "result_df = result_df.set_index('Recall')\n",
    "result_df"
   ]
  },
  {
   "cell_type": "code",
   "execution_count": 495,
   "id": "70472be8",
   "metadata": {},
   "outputs": [],
   "source": [
    "from sklearn.neural_network import MLPClassifier\n",
    "\n",
    "MLPClassifier = MLPClassifier()\n",
    "MLPClassifier.fit(X_res_scaled, y_res)\n",
    "y_pred = MLPClassifier.predict(X_test)\n",
    "y_prob = MLPClassifier.predict_proba(X_test)[:, 1]"
   ]
  },
  {
   "cell_type": "code",
   "execution_count": 505,
   "id": "305b596e",
   "metadata": {},
   "outputs": [
    {
     "name": "stderr",
     "output_type": "stream",
     "text": [
      "C:\\Users\\devan\\Anaconda3\\lib\\site-packages\\sklearn\\neural_network\\_multilayer_perceptron.py:702: ConvergenceWarning: Stochastic Optimizer: Maximum iterations (200) reached and the optimization hasn't converged yet.\n",
      "  warnings.warn(\n",
      "C:\\Users\\devan\\Anaconda3\\lib\\site-packages\\sklearn\\neural_network\\_multilayer_perceptron.py:702: ConvergenceWarning: Stochastic Optimizer: Maximum iterations (200) reached and the optimization hasn't converged yet.\n",
      "  warnings.warn(\n",
      "C:\\Users\\devan\\Anaconda3\\lib\\site-packages\\sklearn\\neural_network\\_multilayer_perceptron.py:702: ConvergenceWarning: Stochastic Optimizer: Maximum iterations (200) reached and the optimization hasn't converged yet.\n",
      "  warnings.warn(\n",
      "C:\\Users\\devan\\Anaconda3\\lib\\site-packages\\sklearn\\neural_network\\_multilayer_perceptron.py:702: ConvergenceWarning: Stochastic Optimizer: Maximum iterations (200) reached and the optimization hasn't converged yet.\n",
      "  warnings.warn(\n",
      "C:\\Users\\devan\\Anaconda3\\lib\\site-packages\\sklearn\\neural_network\\_multilayer_perceptron.py:702: ConvergenceWarning: Stochastic Optimizer: Maximum iterations (200) reached and the optimization hasn't converged yet.\n",
      "  warnings.warn(\n",
      "C:\\Users\\devan\\Anaconda3\\lib\\site-packages\\sklearn\\neural_network\\_multilayer_perceptron.py:702: ConvergenceWarning: Stochastic Optimizer: Maximum iterations (200) reached and the optimization hasn't converged yet.\n",
      "  warnings.warn(\n",
      "C:\\Users\\devan\\Anaconda3\\lib\\site-packages\\sklearn\\neural_network\\_multilayer_perceptron.py:702: ConvergenceWarning: Stochastic Optimizer: Maximum iterations (200) reached and the optimization hasn't converged yet.\n",
      "  warnings.warn(\n",
      "C:\\Users\\devan\\Anaconda3\\lib\\site-packages\\sklearn\\neural_network\\_multilayer_perceptron.py:702: ConvergenceWarning: Stochastic Optimizer: Maximum iterations (200) reached and the optimization hasn't converged yet.\n",
      "  warnings.warn(\n",
      "C:\\Users\\devan\\Anaconda3\\lib\\site-packages\\sklearn\\neural_network\\_multilayer_perceptron.py:702: ConvergenceWarning: Stochastic Optimizer: Maximum iterations (200) reached and the optimization hasn't converged yet.\n",
      "  warnings.warn(\n",
      "C:\\Users\\devan\\Anaconda3\\lib\\site-packages\\sklearn\\neural_network\\_multilayer_perceptron.py:702: ConvergenceWarning: Stochastic Optimizer: Maximum iterations (200) reached and the optimization hasn't converged yet.\n",
      "  warnings.warn(\n",
      "C:\\Users\\devan\\Anaconda3\\lib\\site-packages\\sklearn\\neural_network\\_multilayer_perceptron.py:702: ConvergenceWarning: Stochastic Optimizer: Maximum iterations (200) reached and the optimization hasn't converged yet.\n",
      "  warnings.warn(\n",
      "C:\\Users\\devan\\Anaconda3\\lib\\site-packages\\sklearn\\neural_network\\_multilayer_perceptron.py:702: ConvergenceWarning: Stochastic Optimizer: Maximum iterations (200) reached and the optimization hasn't converged yet.\n",
      "  warnings.warn(\n",
      "C:\\Users\\devan\\Anaconda3\\lib\\site-packages\\sklearn\\neural_network\\_multilayer_perceptron.py:702: ConvergenceWarning: Stochastic Optimizer: Maximum iterations (200) reached and the optimization hasn't converged yet.\n",
      "  warnings.warn(\n",
      "C:\\Users\\devan\\Anaconda3\\lib\\site-packages\\sklearn\\neural_network\\_multilayer_perceptron.py:702: ConvergenceWarning: Stochastic Optimizer: Maximum iterations (200) reached and the optimization hasn't converged yet.\n",
      "  warnings.warn(\n",
      "C:\\Users\\devan\\Anaconda3\\lib\\site-packages\\sklearn\\neural_network\\_multilayer_perceptron.py:702: ConvergenceWarning: Stochastic Optimizer: Maximum iterations (200) reached and the optimization hasn't converged yet.\n",
      "  warnings.warn(\n",
      "C:\\Users\\devan\\Anaconda3\\lib\\site-packages\\sklearn\\neural_network\\_multilayer_perceptron.py:702: ConvergenceWarning: Stochastic Optimizer: Maximum iterations (200) reached and the optimization hasn't converged yet.\n",
      "  warnings.warn(\n",
      "C:\\Users\\devan\\Anaconda3\\lib\\site-packages\\sklearn\\neural_network\\_multilayer_perceptron.py:702: ConvergenceWarning: Stochastic Optimizer: Maximum iterations (200) reached and the optimization hasn't converged yet.\n",
      "  warnings.warn(\n",
      "C:\\Users\\devan\\Anaconda3\\lib\\site-packages\\sklearn\\neural_network\\_multilayer_perceptron.py:702: ConvergenceWarning: Stochastic Optimizer: Maximum iterations (200) reached and the optimization hasn't converged yet.\n",
      "  warnings.warn(\n",
      "C:\\Users\\devan\\Anaconda3\\lib\\site-packages\\sklearn\\neural_network\\_multilayer_perceptron.py:702: ConvergenceWarning: Stochastic Optimizer: Maximum iterations (200) reached and the optimization hasn't converged yet.\n",
      "  warnings.warn(\n",
      "C:\\Users\\devan\\Anaconda3\\lib\\site-packages\\sklearn\\neural_network\\_multilayer_perceptron.py:702: ConvergenceWarning: Stochastic Optimizer: Maximum iterations (200) reached and the optimization hasn't converged yet.\n",
      "  warnings.warn(\n",
      "C:\\Users\\devan\\Anaconda3\\lib\\site-packages\\sklearn\\neural_network\\_multilayer_perceptron.py:702: ConvergenceWarning: Stochastic Optimizer: Maximum iterations (200) reached and the optimization hasn't converged yet.\n",
      "  warnings.warn(\n",
      "C:\\Users\\devan\\Anaconda3\\lib\\site-packages\\sklearn\\neural_network\\_multilayer_perceptron.py:702: ConvergenceWarning: Stochastic Optimizer: Maximum iterations (200) reached and the optimization hasn't converged yet.\n",
      "  warnings.warn(\n",
      "C:\\Users\\devan\\Anaconda3\\lib\\site-packages\\sklearn\\neural_network\\_multilayer_perceptron.py:702: ConvergenceWarning: Stochastic Optimizer: Maximum iterations (200) reached and the optimization hasn't converged yet.\n",
      "  warnings.warn(\n",
      "C:\\Users\\devan\\Anaconda3\\lib\\site-packages\\sklearn\\neural_network\\_multilayer_perceptron.py:702: ConvergenceWarning: Stochastic Optimizer: Maximum iterations (200) reached and the optimization hasn't converged yet.\n",
      "  warnings.warn(\n",
      "C:\\Users\\devan\\Anaconda3\\lib\\site-packages\\sklearn\\neural_network\\_multilayer_perceptron.py:702: ConvergenceWarning: Stochastic Optimizer: Maximum iterations (200) reached and the optimization hasn't converged yet.\n",
      "  warnings.warn(\n",
      "C:\\Users\\devan\\Anaconda3\\lib\\site-packages\\sklearn\\neural_network\\_multilayer_perceptron.py:702: ConvergenceWarning: Stochastic Optimizer: Maximum iterations (200) reached and the optimization hasn't converged yet.\n",
      "  warnings.warn(\n",
      "C:\\Users\\devan\\Anaconda3\\lib\\site-packages\\sklearn\\neural_network\\_multilayer_perceptron.py:702: ConvergenceWarning: Stochastic Optimizer: Maximum iterations (200) reached and the optimization hasn't converged yet.\n",
      "  warnings.warn(\n",
      "C:\\Users\\devan\\Anaconda3\\lib\\site-packages\\sklearn\\neural_network\\_multilayer_perceptron.py:702: ConvergenceWarning: Stochastic Optimizer: Maximum iterations (200) reached and the optimization hasn't converged yet.\n",
      "  warnings.warn(\n",
      "C:\\Users\\devan\\Anaconda3\\lib\\site-packages\\sklearn\\neural_network\\_multilayer_perceptron.py:702: ConvergenceWarning: Stochastic Optimizer: Maximum iterations (200) reached and the optimization hasn't converged yet.\n",
      "  warnings.warn(\n",
      "C:\\Users\\devan\\Anaconda3\\lib\\site-packages\\sklearn\\neural_network\\_multilayer_perceptron.py:702: ConvergenceWarning: Stochastic Optimizer: Maximum iterations (200) reached and the optimization hasn't converged yet.\n",
      "  warnings.warn(\n"
     ]
    }
   ],
   "source": [
    "from sklearn.model_selection import RandomizedSearchCV\n",
    "\n",
    "# Define the parameter grid to search over\n",
    "param_grid = {\n",
    "    'hidden_layer_sizes': [(10,), (20,), (30,)],\n",
    "    'activation': ['relu', 'tanh'],\n",
    "    'solver': ['adam', 'sgd'],\n",
    "    'alpha': [0.0001, 0.001, 0.01],\n",
    "    'learning_rate': ['constant', 'adaptive']\n",
    "}\n",
    "\n",
    "# Define the grid search object\n",
    "rand_search = RandomizedSearchCV(MLPClassifier, param_distributions=param_grid, cv=5, scoring='recall')\n",
    "\n",
    "# Fit the grid search object to the training data\n",
    "rand_search.fit(X_res_scaled, y_res)\n",
    "\n",
    "# Get the best model and evaluate on the test data\n",
    "best_mlp = rand_search.best_estimator_\n",
    "y_pred = best_mlp.predict(X_test)\n",
    "y_prob = best_mlp.predict_proba(X_test)[:, 1]"
   ]
  },
  {
   "cell_type": "code",
   "execution_count": 506,
   "id": "ad6308a0",
   "metadata": {},
   "outputs": [
    {
     "name": "stdout",
     "output_type": "stream",
     "text": [
      "Accuracy: 0.5513\n",
      "Precision: 0.0976\n",
      "Recall: 0.6992\n",
      "F1 score: 0.1713\n",
      "AUC: 0.6272\n",
      "Confusion matrix: \n",
      "[[7717 6554]\n",
      " [ 305  709]]\n",
      "True negative: 7717\n",
      "False positive: 6554\n",
      "False negative: 305\n",
      "True positive: 709\n"
     ]
    }
   ],
   "source": [
    "from sklearn.metrics import accuracy_score, precision_score, recall_score, f1_score, roc_auc_score, confusion_matrix\n",
    "\n",
    "# Compute evaluation metrics\n",
    "accuracy = accuracy_score(y_test, y_pred)\n",
    "precision = precision_score(y_test, y_pred)\n",
    "recall = recall_score(y_test, y_pred)\n",
    "f1 = f1_score(y_test, y_pred)\n",
    "auc = roc_auc_score(y_test, y_prob)\n",
    "tn, fp, fn, tp = confusion_matrix(y_test, y_pred).ravel()\n",
    "\n",
    "# Print evaluation metrics\n",
    "print('Accuracy: {:.4f}'.format(accuracy))\n",
    "print('Precision: {:.4f}'.format(precision))\n",
    "print('Recall: {:.4f}'.format(recall))\n",
    "print('F1 score: {:.4f}'.format(f1))\n",
    "print('AUC: {:.4f}'.format(auc))\n",
    "print('Confusion matrix: ')\n",
    "print(confusion_matrix(y_test, y_pred))\n",
    "print('True negative: {}'.format(tn))\n",
    "print('False positive: {}'.format(fp))\n",
    "print('False negative: {}'.format(fn))\n",
    "print('True positive: {}'.format(tp))"
   ]
  },
  {
   "cell_type": "code",
   "execution_count": 511,
   "id": "842e7f94",
   "metadata": {},
   "outputs": [],
   "source": [
    "# Predict probabilities for the test set\n",
    "y_pred_proba = best_mlp.predict_proba(X)[:, 1]\n",
    "\n",
    "# Convert probabilities to scores between 0 to 100\n",
    "lead_score = (y_pred_proba * 100).round(0)\n",
    "\n",
    "# Add the 'lead_score' column to the original dataframe\n",
    "df['lead_score'] = lead_score"
   ]
  },
  {
   "cell_type": "code",
   "execution_count": 514,
   "id": "f10e8aef",
   "metadata": {},
   "outputs": [
    {
     "data": {
      "text/html": [
       "<div>\n",
       "<style scoped>\n",
       "    .dataframe tbody tr th:only-of-type {\n",
       "        vertical-align: middle;\n",
       "    }\n",
       "\n",
       "    .dataframe tbody tr th {\n",
       "        vertical-align: top;\n",
       "    }\n",
       "\n",
       "    .dataframe thead th {\n",
       "        text-align: right;\n",
       "    }\n",
       "</style>\n",
       "<table border=\"1\" class=\"dataframe\">\n",
       "  <thead>\n",
       "    <tr style=\"text-align: right;\">\n",
       "      <th></th>\n",
       "      <th>status</th>\n",
       "      <th>lost_reason</th>\n",
       "      <th>budget</th>\n",
       "      <th>lease</th>\n",
       "      <th>movein</th>\n",
       "      <th>source</th>\n",
       "      <th>source_city</th>\n",
       "      <th>source_country</th>\n",
       "      <th>utm_source</th>\n",
       "      <th>utm_medium</th>\n",
       "      <th>des_city</th>\n",
       "      <th>des_country</th>\n",
       "      <th>room_type</th>\n",
       "      <th>lead_score</th>\n",
       "    </tr>\n",
       "  </thead>\n",
       "  <tbody>\n",
       "    <tr>\n",
       "      <th>0</th>\n",
       "      <td>0</td>\n",
       "      <td>21</td>\n",
       "      <td>1705</td>\n",
       "      <td>310</td>\n",
       "      <td>469</td>\n",
       "      <td>343</td>\n",
       "      <td>2718</td>\n",
       "      <td>165</td>\n",
       "      <td>5</td>\n",
       "      <td>10</td>\n",
       "      <td>205</td>\n",
       "      <td>8</td>\n",
       "      <td>0</td>\n",
       "      <td>0.0</td>\n",
       "    </tr>\n",
       "    <tr>\n",
       "      <th>1</th>\n",
       "      <td>0</td>\n",
       "      <td>16</td>\n",
       "      <td>1705</td>\n",
       "      <td>310</td>\n",
       "      <td>469</td>\n",
       "      <td>343</td>\n",
       "      <td>2718</td>\n",
       "      <td>165</td>\n",
       "      <td>5</td>\n",
       "      <td>10</td>\n",
       "      <td>74</td>\n",
       "      <td>8</td>\n",
       "      <td>0</td>\n",
       "      <td>0.0</td>\n",
       "    </tr>\n",
       "    <tr>\n",
       "      <th>2</th>\n",
       "      <td>0</td>\n",
       "      <td>21</td>\n",
       "      <td>1753</td>\n",
       "      <td>266</td>\n",
       "      <td>463</td>\n",
       "      <td>343</td>\n",
       "      <td>2619</td>\n",
       "      <td>165</td>\n",
       "      <td>25</td>\n",
       "      <td>3</td>\n",
       "      <td>18</td>\n",
       "      <td>8</td>\n",
       "      <td>0</td>\n",
       "      <td>0.0</td>\n",
       "    </tr>\n",
       "    <tr>\n",
       "      <th>3</th>\n",
       "      <td>0</td>\n",
       "      <td>16</td>\n",
       "      <td>10</td>\n",
       "      <td>2</td>\n",
       "      <td>469</td>\n",
       "      <td>507</td>\n",
       "      <td>2818</td>\n",
       "      <td>165</td>\n",
       "      <td>25</td>\n",
       "      <td>3</td>\n",
       "      <td>26</td>\n",
       "      <td>8</td>\n",
       "      <td>0</td>\n",
       "      <td>100.0</td>\n",
       "    </tr>\n",
       "    <tr>\n",
       "      <th>4</th>\n",
       "      <td>0</td>\n",
       "      <td>8</td>\n",
       "      <td>1705</td>\n",
       "      <td>310</td>\n",
       "      <td>469</td>\n",
       "      <td>343</td>\n",
       "      <td>2718</td>\n",
       "      <td>165</td>\n",
       "      <td>5</td>\n",
       "      <td>10</td>\n",
       "      <td>219</td>\n",
       "      <td>8</td>\n",
       "      <td>0</td>\n",
       "      <td>0.0</td>\n",
       "    </tr>\n",
       "  </tbody>\n",
       "</table>\n",
       "</div>"
      ],
      "text/plain": [
       "   status  lost_reason  budget  lease  movein  source  source_city  \\\n",
       "0       0           21    1705    310     469     343         2718   \n",
       "1       0           16    1705    310     469     343         2718   \n",
       "2       0           21    1753    266     463     343         2619   \n",
       "3       0           16      10      2     469     507         2818   \n",
       "4       0            8    1705    310     469     343         2718   \n",
       "\n",
       "   source_country  utm_source  utm_medium  des_city  des_country  room_type  \\\n",
       "0             165           5          10       205            8          0   \n",
       "1             165           5          10        74            8          0   \n",
       "2             165          25           3        18            8          0   \n",
       "3             165          25           3        26            8          0   \n",
       "4             165           5          10       219            8          0   \n",
       "\n",
       "   lead_score  \n",
       "0         0.0  \n",
       "1         0.0  \n",
       "2         0.0  \n",
       "3       100.0  \n",
       "4         0.0  "
      ]
     },
     "execution_count": 514,
     "metadata": {},
     "output_type": "execute_result"
    }
   ],
   "source": [
    "df.head()"
   ]
  },
  {
   "cell_type": "code",
   "execution_count": null,
   "id": "251bd5c9",
   "metadata": {},
   "outputs": [],
   "source": []
  }
 ],
 "metadata": {
  "kernelspec": {
   "display_name": "Python 3 (ipykernel)",
   "language": "python",
   "name": "python3"
  },
  "language_info": {
   "codemirror_mode": {
    "name": "ipython",
    "version": 3
   },
   "file_extension": ".py",
   "mimetype": "text/x-python",
   "name": "python",
   "nbconvert_exporter": "python",
   "pygments_lexer": "ipython3",
   "version": "3.9.7"
  }
 },
 "nbformat": 4,
 "nbformat_minor": 5
}
